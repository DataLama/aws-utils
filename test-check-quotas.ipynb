{
 "cells": [
  {
   "cell_type": "code",
   "execution_count": 1,
   "id": "70e56ed2-51b1-4ec7-8d3e-89cf3f641453",
   "metadata": {},
   "outputs": [],
   "source": [
    "import os\n",
    "from dotenv import load_dotenv\n",
    "\n",
    "load_dotenv()\n",
    "AWS_ACCESS_KEY_ID = os.environ.get('AWS_ACCESS_KEY_ID')\n",
    "AWS_SECRET_ACCESS_KEY = os.environ.get('AWS_SECRET_ACCESS_KEY')\n",
    "\n",
    "from scripts.check_aws_quotas import QuotaChecker"
   ]
  },
  {
   "cell_type": "markdown",
   "id": "c0abf5a2-b1d5-4e09-be59-5ffdf0c8d64f",
   "metadata": {},
   "source": [
    "---"
   ]
  },
  {
   "cell_type": "markdown",
   "id": "5f5b5c20-3585-4f9a-90e3-53878a1f8423",
   "metadata": {},
   "source": [
    "* 현재 account의 sagemaker quota 확인해보자"
   ]
  },
  {
   "cell_type": "code",
   "execution_count": 2,
   "id": "aef4c69a-33d4-4b5c-a9af-543229d1d1f4",
   "metadata": {},
   "outputs": [],
   "source": [
    "qc = QuotaChecker(\n",
    "    aws_access_key_id=AWS_ACCESS_KEY_ID,\n",
    "    aws_secret_access_key=AWS_SECRET_ACCESS_KEY\n",
    ")"
   ]
  },
  {
   "cell_type": "code",
   "execution_count": 3,
   "id": "fbe36b51-aa91-420b-b7b6-57905b7e1364",
   "metadata": {},
   "outputs": [],
   "source": [
    "df = qc.get_sagemaker_quotas_limits()"
   ]
  },
  {
   "cell_type": "code",
   "execution_count": 4,
   "id": "3d41d1c9-43c0-4b25-bdc4-03b4aac28729",
   "metadata": {},
   "outputs": [
    {
     "data": {
      "text/plain": [
       "[{'RESOURCE': 'spot-training-job/ml.p3.2xlarge',\n",
       "  'DESCRIPTION': 'ml.p3.2xlarge for spot training job usage',\n",
       "  'CURRNET_LIMIT': 1.0},\n",
       " {'RESOURCE': 'training-job/ml.p3.2xlarge',\n",
       "  'DESCRIPTION': 'ml.p3.2xlarge for training job usage',\n",
       "  'CURRNET_LIMIT': 2.0}]"
      ]
     },
     "execution_count": 4,
     "metadata": {},
     "output_type": "execute_result"
    }
   ],
   "source": [
    "df.loc[df.RESOURCE.apply(lambda x:'training-job/ml.p3.2xlarge' in x)].to_dict('records')"
   ]
  }
 ],
 "metadata": {
  "kernelspec": {
   "display_name": "Python 3 (ipykernel)",
   "language": "python",
   "name": "python3"
  },
  "language_info": {
   "codemirror_mode": {
    "name": "ipython",
    "version": 3
   },
   "file_extension": ".py",
   "mimetype": "text/x-python",
   "name": "python",
   "nbconvert_exporter": "python",
   "pygments_lexer": "ipython3",
   "version": "3.8.12"
  }
 },
 "nbformat": 4,
 "nbformat_minor": 5
}
